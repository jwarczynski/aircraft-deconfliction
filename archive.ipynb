{
 "cells": [
  {
   "cell_type": "code",
   "execution_count": null,
   "metadata": {},
   "outputs": [],
   "source": [
    "for num_maneuvers in range(MIN_MANEUVERS, MAX_MANEUVERS+1, STEP):\n",
    "    for i in range(INSTANCES_PER_CONFIGURATION):\n",
    "        conflict_matrix = generate_conflict_matrix(PLANES, num_maneuvers, CONFLICTS_DENSITY)\n",
    "        filename = f\"instances/{PLANES}_{num_maneuvers}_{CONFLICTS_DENSITY}_{i}\"\n",
    "        save_instance_to_file(conflict_matrix, filename)"
   ]
  },
  {
   "cell_type": "code",
   "execution_count": null,
   "metadata": {},
   "outputs": [],
   "source": [
    "for num_planes in range(MIN_PLANES, MAX_PLANES+1, STEP):\n",
    "    for i in range(INSTANCES_PER_CONFIGURATION):\n",
    "        conflict_matrix = generate_conflict_matrix(num_planes, MANEUVERS, CONFLICTS_DENSITY)\n",
    "        filename = f\"instances/{num_planes}_{MANEUVERS}_{CONFLICTS_DENSITY}_{i}\"\n",
    "        save_instance_to_file(conflict_matrix, filename)"
   ]
  },
  {
   "cell_type": "code",
   "execution_count": null,
   "metadata": {},
   "outputs": [],
   "source": [
    "times, solutions_num = get_average_times(range(MIN_PLANES, MAX_PLANES+1, STEP), range(MANEUVERS,MANEUVERS+1), range(CONFLICTS_DENSITY,CONFLICTS_DENSITY + 1), range(INSTANCES_PER_CONFIGURATION))\n",
    "\n",
    "with open(f'{MAX_PLANES}_{MANEUVERS}_{CONFLICTS_DENSITY}_{INSTANCES_PER_CONFIGURATION}.csv', mode='w', newline='') as file:\n",
    "    writer = csv.writer(file)\n",
    "    writer.writerow(['times', 'solutions'])\n",
    "    for elem1, elem2 in zip(times, solutions_num):\n",
    "        writer.writerow([elem1, elem2])"
   ]
  },
  {
   "cell_type": "code",
   "execution_count": null,
   "metadata": {},
   "outputs": [],
   "source": [
    "times, solutions_num = get_average_times(range(PLANES, PLANES+1, STEP), range(MIN_MANEUVERS, MAX_MANEUVERS+1, STEP), range(CONFLICTS_DENSITY,CONFLICTS_DENSITY + 1), range(INSTANCES_PER_CONFIGURATION))\n",
    "\n",
    "with open(f'{PLANES}_{MANEUVERS}_{CONFLICTS_DENSITY}_{INSTANCES_PER_CONFIGURATION}.csv', mode='w', newline='') as file:\n",
    "    writer = csv.writer(file)\n",
    "    writer.writerow(['times', 'solutions'])\n",
    "    for elem1, elem2 in zip(times, solutions_num):\n",
    "        writer.writerow([elem1, elem2])"
   ]
  }
 ],
 "metadata": {
  "language_info": {
   "name": "python"
  },
  "orig_nbformat": 4
 },
 "nbformat": 4,
 "nbformat_minor": 2
}
