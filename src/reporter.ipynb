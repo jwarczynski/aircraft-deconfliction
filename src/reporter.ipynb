{
 "cells": [
  {
   "cell_type": "code",
   "execution_count": 2,
   "metadata": {},
   "outputs": [],
   "source": [
    "from utils import get_times_and_solutions\n",
    "import csv\n",
    "\n",
    "def execute_and_report(config, type, optimize=False):\n",
    "    res = get_times_and_solutions(*config, optimize)\n",
    "    p, m, d, _ = config\n",
    "\n",
    "    subfolder = \"objective\" if optimize else \"extended\"\n",
    "\n",
    "    if type == \"P\":\n",
    "        filename = f'../out/{subfolder}/planes_{p[0]}-{p[-1]+1}_{m[0]}_{d[0]}.csv'\n",
    "    elif type == \"M\":\n",
    "        filename = f'../out/{subfolder}/maneuvers_{p[0]}_{m[0]}-{m[-1]+1}_{d[0]}.csv'\n",
    "    elif type == \"D\":\n",
    "        filename = f'../out/{subfolder}/density_{p[0]}_{m[0]}_{d[0]}-{d[-1]+1}.csv'\n",
    "\n",
    "    with open(filename, mode='w', newline='') as file:\n",
    "        writer = csv.writer(file)\n",
    "        writer.writerow(['index', 'instance', \"time\", \"solution\", \"status\"])\n",
    "        for i, ins, t, s, st in zip(*res):\n",
    "            writer.writerow([i, ins, t, s, st])\n",
    "\n",
    "    return res\n"
   ]
  },
  {
   "cell_type": "code",
   "execution_count": 3,
   "metadata": {},
   "outputs": [],
   "source": [
    "from generator import CONFIG_P, CONFIG_P2, CONFIG_M3, CONFIG_D, CONFIG_D2\n",
    "\n",
    "# execute_and_report(CONFIG_P, \"P\", True)\n",
    "\n",
    "res = []\n",
    "res.append(execute_and_report(CONFIG_P2, \"P\", True))"
   ]
  }
 ],
 "metadata": {
  "kernelspec": {
   "display_name": "Python 3",
   "language": "python",
   "name": "python3"
  },
  "language_info": {
   "codemirror_mode": {
    "name": "ipython",
    "version": 3
   },
   "file_extension": ".py",
   "mimetype": "text/x-python",
   "name": "python",
   "nbconvert_exporter": "python",
   "pygments_lexer": "ipython3",
   "version": "3.10.5"
  },
  "orig_nbformat": 4
 },
 "nbformat": 4,
 "nbformat_minor": 2
}
