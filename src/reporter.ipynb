{
 "cells": [
  {
   "cell_type": "code",
   "execution_count": null,
   "metadata": {},
   "outputs": [],
   "source": [
    "from utils import get_average_times\n",
    "import csv\n",
    "from generator import CONFIG_M3\n",
    "\n",
    "times, solutions_num = get_average_times(*CONFIG_M3)\n",
    "p, m, d, _ = CONFIG_M3\n",
    "\n",
    "with open(f'../out/maneuvers_{p[0]}_{m[0]}-{m[-1]+1}_{d[0]}.csv', mode='w', newline='') as file:\n",
    "    writer = csv.writer(file)\n",
    "    writer.writerow(['times', 'solutions'])\n",
    "    for elem1, elem2 in zip(times, solutions_num):\n",
    "        writer.writerow([elem1, elem2])"
   ]
  },
  {
   "cell_type": "code",
   "execution_count": null,
   "metadata": {},
   "outputs": [],
   "source": [
    "from utils import get_times_and_solutions\n",
    "import csv\n",
    "from generator import CONFIG_M3\n",
    "\n",
    "res = get_times_and_solutions(*CONFIG_M3)\n",
    "p, m, d, _ = CONFIG_M3\n",
    "\n",
    "with open(f'../out/extended/maneuvers_{p[0]}_{m[0]}-{m[-1]+1}_{d[0]}.csv', mode='w', newline='') as file:\n",
    "    writer = csv.writer(file)\n",
    "    writer.writerow(['iteration', 'instance', \"time\", \"solutions\", \"status\"])\n",
    "    for i, ins, t, s, st in zip(*res):\n",
    "        writer.writerow([i, ins, t, s, st])"
   ]
  },
  {
   "cell_type": "code",
   "execution_count": 1,
   "metadata": {},
   "outputs": [
    {
     "name": "stdout",
     "output_type": "stream",
     "text": [
      "read matrix\n"
     ]
    }
   ],
   "source": [
    "from utils import get_times_and_solutions\n",
    "import csv\n",
    "from generator import CONFIG_P\n",
    "\n",
    "res = get_times_and_solutions(*CONFIG_P)\n",
    "p, m, d, _ = CONFIG_P\n",
    "\n",
    "with open(f'../out/extended/planes_{p[0]}-{p[-1]+1}_{m[0]}_{d[0]}.csv', mode='w', newline='') as file:\n",
    "    writer = csv.writer(file)\n",
    "    writer.writerow(['iteration', 'instance', \"time\", \"solutions\", \"status\"])\n",
    "    for i, ins, t, s, st in zip(*res):\n",
    "        writer.writerow([i, ins, t, s, st])"
   ]
  },
  {
   "cell_type": "code",
   "execution_count": 1,
   "metadata": {},
   "outputs": [],
   "source": [
    "def execute_and_report(config, type, optimize=False):\n",
    "    res = get_times_and_solutions(*config, optimize)\n",
    "    p, m, d, _ = config\n",
    "\n",
    "    subfolder = \"objective\" if optimize else \"extended\"\n",
    "\n",
    "    if type == \"P\":\n",
    "        filename = f'../out/{subfolder}/planes_{p[0]}-{p[-1]+1}_{m[0]}_{d[0]}.csv'\n",
    "    elif type == \"M\":\n",
    "        filename = f'../out/{subfolder}/maneuvers_{p[0]}_{m[0]}-{m[-1]+1}_{d[0]}.csv'\n",
    "    elif type == \"D\":\n",
    "        filename = f'../out/{subfolder}/density_{p[0]}_{m[0]}_{d[0]}-{d[-1]+1}.csv'\n",
    "\n",
    "    with open(filename, mode='w', newline='') as file:\n",
    "        writer = csv.writer(file)\n",
    "        writer.writerow(['index', 'instance', \"time\", \"solution\", \"status\"])\n",
    "        for i, ins, t, s, st in zip(*res):\n",
    "            writer.writerow([i, ins, t, s, st])\n"
   ]
  },
  {
   "cell_type": "code",
   "execution_count": 2,
   "metadata": {},
   "outputs": [
    {
     "name": "stdout",
     "output_type": "stream",
     "text": [
      "objective\n",
      "instance 10_50_59_0  time: 15.18699999999808    status: integer infeasible\n",
      "instance 10_50_59_1  time: 15.781000000002678    status: integer infeasible\n",
      "instance 10_50_59_2  time: 12.343999999997322    status: integer optimal solution\n",
      "instance 10_50_59_3  time: 17.0    status: integer infeasible\n",
      "instance 10_50_59_4  time: 14.703999999997905    status: integer infeasible\n",
      "instance 10_50_59  avg time: 15.003199999999197  solutions: 1\n",
      "instance 10_51_59_0  time: 17.07800000000134    status: integer infeasible\n",
      "instance 10_51_59_1  time: 13.14100000000326    status: integer optimal solution\n",
      "instance 10_51_59_2  time: 13.390999999995984    status: integer optimal solution\n",
      "instance 10_51_59_3  time: 16.125    status: integer infeasible\n",
      "instance 10_51_59_4  time: 15.280999999995402    status: integer infeasible\n",
      "instance 10_51_59  avg time: 15.003199999999197  solutions: 2\n",
      "instance 10_52_59_0  time: 18.171000000002095    status: integer infeasible\n",
      "instance 10_52_59_1  time: 15.60899999999674    status: integer optimal solution\n",
      "instance 10_52_59_2  time: 18.85899999999674    status: integer infeasible\n",
      "instance 10_52_59_3  time: 15.343999999997322    status: integer optimal solution\n",
      "instance 10_52_59_4  time: 19.046000000002095    status: integer optimal solution\n",
      "instance 10_52_59  avg time: 17.405799999998997  solutions: 3\n",
      "instance 10_53_59_0  time: 16.906000000002678    status: integer infeasible\n",
      "instance 10_53_59_1  time: 18.156000000002678    status: integer infeasible\n",
      "instance 10_53_59_2  time: 17.93800000000192    status: integer infeasible\n",
      "instance 10_53_59_3  time: 15.359000000004016    status: integer infeasible\n",
      "instance 10_53_59_4  time: 15.23399999999674    status: integer optimal solution\n",
      "instance 10_53_59  avg time: 16.718600000001608  solutions: 1\n",
      "instance 10_54_59_0  time: 18.95300000000134    status: integer optimal solution\n",
      "instance 10_54_59_1  time: 17.468999999997322    status: integer infeasible\n",
      "instance 10_54_59_2  time: 19.406999999999243    status: integer infeasible\n",
      "instance 10_54_59_3  time: 20.06300000000192    status: integer optimal solution\n",
      "instance 10_54_59_4  time: 21.156999999999243    status: integer infeasible\n",
      "instance 10_54_59  avg time: 19.409799999999812  solutions: 2\n",
      "instance 10_55_59_0  time: 21.953999999997905    status: integer infeasible\n",
      "instance 10_55_59_1  time: 15.796000000002095    status: integer optimal solution\n",
      "instance 10_55_59_2  time: 15.875    status: integer optimal solution\n",
      "instance 10_55_59_3  time: 17.875    status: integer infeasible\n",
      "instance 10_55_59_4  time: 20.468000000000757    status: integer infeasible\n",
      "instance 10_55_59  avg time: 18.393600000000152  solutions: 2\n",
      "instance 10_56_59_0  time: 19.843999999997322    status: integer optimal solution\n",
      "instance 10_56_59_1  time: 19.67199999999866    status: integer optimal solution\n",
      "instance 10_56_59_2  time: 17.43699999999808    status: integer optimal solution\n",
      "instance 10_56_59_3  time: 16.985000000000582    status: integer infeasible\n",
      "instance 10_56_59_4  time: 13.109000000004016    status: integer optimal solution\n",
      "instance 10_56_59  avg time: 17.40939999999973  solutions: 4\n",
      "instance 10_57_59_0  time: 18.125    status: integer optimal solution\n",
      "instance 10_57_59_1  time: 21.98399999999674    status: integer infeasible\n",
      "instance 10_57_59_2  time: 18.421000000002095    status: integer optimal solution\n",
      "instance 10_57_59_3  time: 17.890999999995984    status: integer optimal solution\n",
      "instance 10_57_59_4  time: 21.67199999999866    status: integer infeasible\n",
      "instance 10_57_59  avg time: 19.618599999998697  solutions: 3\n",
      "instance 10_58_59_0  time: 80.21899999999732    status: integer infeasible\n",
      "instance 10_58_59_1  time: 13.218999999997322    status: integer optimal solution\n",
      "instance 10_58_59_2  time: 48.42199999999866    status: integer optimal solution\n",
      "instance 10_58_59_3  time: 20.25    status: integer optimal solution\n",
      "instance 10_58_59_4  time: 22.093000000000757    status: integer infeasible\n",
      "instance 10_58_59  avg time: 36.840599999998815  solutions: 3\n",
      "instance 10_59_59_0  time: 55.31300000000192    status: integer infeasible\n",
      "instance 10_59_59_1  time: 49.23399999999674    status: integer optimal solution\n",
      "instance 10_59_59_2  time: 16.42199999999866    status: integer optimal solution\n",
      "instance 10_59_59_3  time: 44.95299999999406    status: integer optimal solution\n",
      "instance 10_59_59_4  time: 44.93699999999808    status: integer optimal solution\n",
      "instance 10_59_59  avg time: 42.171799999997894  solutions: 4\n"
     ]
    }
   ],
   "source": [
    "from utils import get_times_and_solutions\n",
    "import csv\n",
    "from generator import CONFIG_P, CONFIG_M3, CONFIG_D\n",
    "\n",
    "execute_and_report(CONFIG_M3, \"M\", True)"
   ]
  }
 ],
 "metadata": {
  "kernelspec": {
   "display_name": "Python 3",
   "language": "python",
   "name": "python3"
  },
  "language_info": {
   "codemirror_mode": {
    "name": "ipython",
    "version": 3
   },
   "file_extension": ".py",
   "mimetype": "text/x-python",
   "name": "python",
   "nbconvert_exporter": "python",
   "pygments_lexer": "ipython3",
   "version": "3.10.5"
  },
  "orig_nbformat": 4
 },
 "nbformat": 4,
 "nbformat_minor": 2
}
