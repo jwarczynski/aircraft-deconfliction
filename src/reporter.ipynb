{
 "cells": [
  {
   "cell_type": "code",
   "execution_count": null,
   "metadata": {},
   "outputs": [],
   "source": [
    "from utils import get_average_times\n",
    "import csv\n",
    "from generator import CONFIG_M3\n",
    "\n",
    "times, solutions_num = get_average_times(*CONFIG_M3)\n",
    "p, m, d, _ = CONFIG_M3\n",
    "\n",
    "with open(f'../out/maneuvers_{p[0]}_{m[0]}-{m[-1]+1}_{d[0]}.csv', mode='w', newline='') as file:\n",
    "    writer = csv.writer(file)\n",
    "    writer.writerow(['times', 'solutions'])\n",
    "    for elem1, elem2 in zip(times, solutions_num):\n",
    "        writer.writerow([elem1, elem2])"
   ]
  },
  {
   "cell_type": "code",
   "execution_count": null,
   "metadata": {},
   "outputs": [],
   "source": [
    "from utils import get_times_and_solutions\n",
    "import csv\n",
    "from generator import CONFIG_M3\n",
    "\n",
    "res = get_times_and_solutions(*CONFIG_M3)\n",
    "p, m, d, _ = CONFIG_M3\n",
    "\n",
    "with open(f'../out/extended/maneuvers_{p[0]}_{m[0]}-{m[-1]+1}_{d[0]}.csv', mode='w', newline='') as file:\n",
    "    writer = csv.writer(file)\n",
    "    writer.writerow(['times', 'solutions'])\n",
    "    for i, ins, t, s, st in zip(*res):\n",
    "        writer.writerow([i, ins, t, s, st])"
   ]
  }
 ],
 "metadata": {
  "kernelspec": {
   "display_name": "Python 3",
   "language": "python",
   "name": "python3"
  },
  "language_info": {
   "codemirror_mode": {
    "name": "ipython",
    "version": 3
   },
   "file_extension": ".py",
   "mimetype": "text/x-python",
   "name": "python",
   "nbconvert_exporter": "python",
   "pygments_lexer": "ipython3",
   "version": "3.10.5"
  },
  "orig_nbformat": 4
 },
 "nbformat": 4,
 "nbformat_minor": 2
}
